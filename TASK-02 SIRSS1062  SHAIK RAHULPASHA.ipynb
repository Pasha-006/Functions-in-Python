{
 "cells": [
  {
   "cell_type": "markdown",
   "metadata": {},
   "source": [
    "# 01   Write a lambda expression to extract first word of a string."
   ]
  },
  {
   "cell_type": "code",
   "execution_count": 18,
   "metadata": {},
   "outputs": [
    {
     "name": "stdout",
     "output_type": "stream",
     "text": [
      "Regex Software services\n",
      "First Word of String is : Regex\n"
     ]
    }
   ],
   "source": [
    "\n",
    "firstword=lambda word:word.split()[0]\n",
    "print(\"First Word of String is :\",firstword(input()))\n"
   ]
  },
  {
   "cell_type": "markdown",
   "metadata": {},
   "source": [
    "# 02:    Write a function to extract first word of s string (with many words separated by space)."
   ]
  },
  {
   "cell_type": "code",
   "execution_count": 4,
   "metadata": {},
   "outputs": [],
   "source": [
    "def first_word(string1):\n",
    "    return string1.split()[0]"
   ]
  },
  {
   "cell_type": "code",
   "execution_count": 17,
   "metadata": {},
   "outputs": [
    {
     "name": "stdout",
     "output_type": "stream",
     "text": [
      "Hello I'm Rahul\n",
      "First word of string is : Hello\n"
     ]
    }
   ],
   "source": [
    "print('First word of string is :',first_word(input()))"
   ]
  },
  {
   "cell_type": "markdown",
   "metadata": {},
   "source": [
    "# 03 : Extract the first word from every string from a list of strings by using map function."
   ]
  },
  {
   "cell_type": "code",
   "execution_count": 14,
   "metadata": {},
   "outputs": [
    {
     "name": "stdout",
     "output_type": "stream",
     "text": [
      "['I', 'Computer', 'from']\n"
     ]
    }
   ],
   "source": [
    "lst1=['I am Rahul','Computer science student','from Geethanjali College']\n",
    "lst2=list(map(first_word,lst1))\n",
    "print(lst2)"
   ]
  },
  {
   "cell_type": "markdown",
   "metadata": {},
   "source": [
    "# 04 : Write a function to return a list of prime factors of a given number."
   ]
  },
  {
   "cell_type": "code",
   "execution_count": 7,
   "metadata": {},
   "outputs": [],
   "source": [
    "def prime(n):\n",
    "    if n==0 or n==1:\n",
    "        return False\n",
    "\n",
    "    else:\n",
    "        for i in range(2,n//2+1):\n",
    "            if n%i==0:\n",
    "                return False\n",
    "                break\n",
    "        else:\n",
    "            return True"
   ]
  },
  {
   "cell_type": "code",
   "execution_count": 8,
   "metadata": {},
   "outputs": [],
   "source": [
    "def primeFactors(n):\n",
    "    pfact = []\n",
    "    i = 2\n",
    "    while n>1:\n",
    "        if n % i == 0 and prime(i):\n",
    "            pfact.append(i)\n",
    "            n = n//i\n",
    "        else : \n",
    "            i+=1\n",
    "    return pfact"
   ]
  },
  {
   "cell_type": "code",
   "execution_count": 16,
   "metadata": {},
   "outputs": [
    {
     "name": "stdout",
     "output_type": "stream",
     "text": [
      "10\n",
      "Prime Factors are: [2, 5]\n"
     ]
    }
   ],
   "source": [
    "print(\"Prime Factors are:\",primeFactors(int(input())))"
   ]
  },
  {
   "cell_type": "markdown",
   "metadata": {},
   "source": [
    "# 05  :Write a function that finds 2nd largest among 4 numbers (Repetitions are allowed,without sorting)."
   ]
  },
  {
   "cell_type": "markdown",
   "metadata": {},
   "source": []
  },
  {
   "cell_type": "code",
   "execution_count": 13,
   "metadata": {},
   "outputs": [
    {
     "name": "stdout",
     "output_type": "stream",
     "text": [
      "10 20 30\n",
      "Second largest number is : 20\n"
     ]
    }
   ],
   "source": [
    "\n",
    "list1 = input().split()\n",
    "list1=list(map(lambda x :int(x),list1))\n",
    " \n",
    "\n",
    "new_list = set(list1)\n",
    " \n",
    "\n",
    "new_list.remove(max(new_list))\n",
    " \n",
    "\n",
    "\n",
    "print('Second largest number is :',max(new_list))"
   ]
  },
  {
   "cell_type": "code",
   "execution_count": null,
   "metadata": {},
   "outputs": [],
   "source": []
  }
 ],
 "metadata": {
  "kernelspec": {
   "display_name": "Python 3",
   "language": "python",
   "name": "python3"
  },
  "language_info": {
   "codemirror_mode": {
    "name": "ipython",
    "version": 3
   },
   "file_extension": ".py",
   "mimetype": "text/x-python",
   "name": "python",
   "nbconvert_exporter": "python",
   "pygments_lexer": "ipython3",
   "version": "3.8.5"
  }
 },
 "nbformat": 4,
 "nbformat_minor": 4
}
